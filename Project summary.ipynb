{
 "cells": [
  {
   "cell_type": "markdown",
   "id": "633ae2a5",
   "metadata": {},
   "source": [
    "# PROJECT \n",
    "**Code: 10281**\n",
    "### Employee Performance Analysis\n",
    "**INX Future Inc.**"
   ]
  },
  {
   "cell_type": "markdown",
   "id": "ff06477d",
   "metadata": {},
   "source": [
    "REP Name            :  DataMites™ Solutions Pvt Ltd<br>\n",
    "Venue Name          :  Open Project<br>\n",
    "Exam Country        :  India<br>\n",
    "Assesment ID        :  E10901-PR2-V18<br>\n",
    "Module              :  Certified Data Scientist - Project<br>\n",
    "Language            :  English<br>\n",
    "Exam Format         :  Open Project- IABAC™ Project Submission<br>\n",
    "Candidate Name      :  Sanitha Mary Kurian<br>\n",
    "Candidate Email     :  sanithamary88@gmail.com<br>\n",
    "Registered Trainer  :  Ashok Kumar A<br>\n",
    "Project Assessment  :  IABAC™ <br>"
   ]
  },
  {
   "cell_type": "markdown",
   "id": "84069738",
   "metadata": {},
   "source": [
    "### PROBLEM STATEMENT"
   ]
  },
  {
   "cell_type": "markdown",
   "id": "f9b12f57",
   "metadata": {},
   "source": [
    "* INX Future Inc , (referred as INX ) , is one of the leading data analytics and automation solutions provider with over 15 years of global business presence. INX is consistently rated as top 20 best employers past 5 years. INX human resource policies are considered as employee friendly and widely perceived as best practices in the industry.<br>\n",
    "* Recent years, the employee performance indexes are not healthy and this is becoming a growing concerns among the top management. There has been increased escalations on service delivery and client satisfaction levels came down by 8 percentage points. <br>\n",
    "* CEO, Mr. Brain, knows the issues but concerned to take any actions in penalizing non-performing employees as this would affect the employee morale of all the employees in general and may further reduce the performance. Also, the market perception best employer and thereby attracting best talents to join the company.<br>\n",
    "* Mr. Brain decided to initiate a data science project , which analyses the current employee data and find the core underlying causes of this performance issues. Mr. Brain, being a data scientist himself, expects the findings of this project will help him to take right course of actions. He also expects a clear indicators of non performing employees, so that any penalization of non-performing employee, if required, may not significantly affect other employee morals."
   ]
  },
  {
   "cell_type": "markdown",
   "id": "506cbdcb",
   "metadata": {},
   "source": [
    "The following insights are expected from this project.\n",
    "1. Department wise performances\n",
    "2. Top 3 Important Factors effecting employee performance\n",
    "3. A trained model which can predict the employee performance based on factors as inputs. This\n",
    "will be used to hire employees\n",
    "4. Recommendations to improve the employee performance based on insights from analysis."
   ]
  },
  {
   "cell_type": "markdown",
   "id": "ad9e6977",
   "metadata": {},
   "source": [
    "### PROJECT SUMMARY"
   ]
  },
  {
   "cell_type": "markdown",
   "id": "f0dbc2a7",
   "metadata": {},
   "source": [
    "The given data science project focused on analyzing employee performance at INX Future Inc.This project involves various aspects of data analysis, including exploring department-wise performance, identifying key factors affecting employee performance, building a predictive model, and making recommendations for improving employee performance."
   ]
  },
  {
   "cell_type": "markdown",
   "id": "5d4b4106",
   "metadata": {},
   "source": [
    "**Data Overview:**<br>"
   ]
  },
  {
   "cell_type": "markdown",
   "id": "2d245421",
   "metadata": {},
   "source": [
    "\n",
    "**Data Size:** The dataset contains 1200 data points (employees) with 28 features in total.<br>\n",
    "**Feature Types:** The 28 features are classified into two types: qualitative (categorical) and quantitative (numerical). There are 16 qualitative and 11 quantitative features.<br>\n",
    "**Irrelevant Feature:** The employee ID is considered irrelevant for predicting performance rating and is not used in the analysis.<br>\n",
    "**Labelled Data:** The dataset is labeled, meaning it contains information about the performance rating of employees.\n"
   ]
  },
  {
   "cell_type": "markdown",
   "id": "06e5e0b0",
   "metadata": {},
   "source": [
    " \n",
    "The machine learning models achieved an accuracy of 92% in predicting performance ratings, demonstrating their effectiveness."
   ]
  },
  {
   "cell_type": "markdown",
   "id": "671f5fce",
   "metadata": {},
   "source": [
    "**REQUIREMENT**"
   ]
  },
  {
   "cell_type": "markdown",
   "id": "75416e75",
   "metadata": {},
   "source": [
    "Analyzing employee performance is a valuable process for organizations to assess the productivity, engagement, and contribution of their workforce. To conduct an effective employee performance analysis, you'll need certain requirements, including data, tools, and methodologies. "
   ]
  },
  {
   "cell_type": "markdown",
   "id": "7e50af30",
   "metadata": {},
   "source": [
    "**Data Source**:The employee performance date of INX Future Inc. can be downloads from below link.\n",
    "http://data.iabac.org/exam/p2/data/INX_Future_Inc_Employee_Performance_CDS_Project2_Data_V1.8.xls<br>\n",
    "\n",
    "**Tools and Software:**\n",
    "\n",
    "   **Data Analysis Tools:** Utilize data analysis software such as Python (with libraries like NumPy, Pandas, and Scikit-Learn)\n",
    "\n",
    "   **Data Visualization Tools:** Use tools like Matplotlib, Seaborn to create visualizations that make complex data more accessible.\n",
    "   **Machine Learning Models:**:Employed Machine learning models like Logistic Regression,K-Nearest Neighbours,Support vetor Machine,Decision Tree ,Random Forest ,Extreme Gradient Boosting,Gradient Boosting  to make predictions and classify employees, \n",
    "   \n"
   ]
  },
  {
   "cell_type": "markdown",
   "id": "21d09c4c",
   "metadata": {},
   "source": [
    "**ANALYSIS**<br>\n",
    "\n",
    "To perform this analysis, various data science and machine learning techniques would be used, such as data visualization, statistical analysis, and machine learning model development.<br>\n",
    "**Data Analysis Process:**<br>\n",
    "The analysis of the project has undergone several stages, including:<br>\n",
    "**Distribution Analysis:** Understanding the distribution of data within each feature, which can provide insights into the data's characteristics.<br>\n",
    "1.The age distribution is  from 18 to 60 where the most of the employees are lying between 30 to 40 range.<br>\n",
    "2.There are about 60% of Male employees and 40% of Female employees in the company.<br>\n",
    "3.There are employees from six unique backgrounds and 40% is from Life Sciences.<br>\n",
    "4.There are 6 unique departments and sales,development and researcha nd development is having more employess<br>\n",
    "5.There are 19 job roles in the company<br>\n",
    "6.70% of the employess travel rarely for bussiness purpose<br>\n",
    "7.The distance from home to office is distributing from 0 unit to 30 unit which can be kilometre or mile. <br>\n",
    "8.Employees are worked in the multiple companies up to 8 companies where most of the employees worked up to 2 companies before getting to work here.<br>\n",
    "9.The hourly rate range is 65 to 95 for majority employees work in this company.<br>\n",
    "10.Most of the employees get 11% to 15% of salary hike in this company.<br>\n",
    "11.The most of the employees are having the education level of 3<br>\n",
    "12.The Job satisfaction level in this company is high level for the majority of employees.<br>\n",
    "13.The 85% of employees are not having attrition in their work<br>\n",
    "14.Only 11% of employees in the company were achieved level 4 - performance rating<br>\n",
    "15.The overall percentage of employees doing overtime is 30%<br>\n"
   ]
  },
  {
   "cell_type": "markdown",
   "id": "a8a3a1f7",
   "metadata": {},
   "source": [
    "**Correlation Analysis:** Identifying correlations between different features and the performance rating. This step helps in understanding which factors are related to performance.<br>\n",
    "\n",
    "**Departmental Analysis:** Analyzing data within each department separately to explore department-specific insights and performance variations.<br>\n",
    "\n",
    "1.\"EmpEnvironmentSatisfaction\" was identified as the most influential feature, suggesting that employee satisfaction with their work environment strongly affects performance ratings.<br>\n",
    "\n",
    "2.\"EmpLastSalaryHikePercent\" was the second most critical factor, indicating that recent salary hikes impact employee motivation and, consequently, performance.<br>\n",
    "\n",
    "3.\"YearsSinceLastPromotion\" was found to be a contributing factor, suggesting that the time since an employee's last promotion affects their performance.<br>\n",
    "\n"
   ]
  },
  {
   "cell_type": "markdown",
   "id": "cf6f9b7e",
   "metadata": {},
   "source": [
    "**DATA PREPROCESSING:**<br>\n",
    "\n",
    "**Data Cleaning:**<br>\n",
    "The given data is well structured and cleaned and there are no missing data present in this data.<br>\n",
    "**Data Transformation:**<br>\n",
    "1.Encoding categorical variables: Convert categorical data into a numerical format using technique like label encoding.<br>\n",
    "2.Feature scaling: Standardize or normalize numerical features to bring them to a similar scale, which can improve the performance of some machine learning algorithms.Here Scaling is used.<br>\n",
    "**Data Splitting:**<br>\n",
    "Divide the dataset into training and test sets for model development and evaluation.<br>\n",
    "**Data Balancing (for imbalanced datasets):**<br>\n",
    "Apply techniques like SMOTE (Synthetic Minority Over-sampling Technique) to balance class distribution in the dataset."
   ]
  },
  {
   "cell_type": "markdown",
   "id": "a05ff14d",
   "metadata": {},
   "source": [
    "#### **MACHINE LEARNING MODELS**\n",
    "Different Machine learning models for classification is used like:<br>\n",
    "\n",
    "- Logistic Regression\n",
    "- K-Nearest Neighbors(KNN)\n",
    "- Support Vector Machine (SVM)\n",
    "- Random Forest \n",
    "- Decision Tree\n",
    "- Gradient boosting\n",
    "- Extreme Gradient Boosting"
   ]
  },
  {
   "cell_type": "markdown",
   "id": "dcba3485",
   "metadata": {},
   "source": [
    "KNN, with an accuracy score of 0.61, demonstrates the lowest performance among the models in this comparison.<br>\n",
    "The Decision Tree model achieves an accuracy score of 0.88.<br>\n",
    "Ensemble Methods Show Strong Performance: Random Forest and XGBoost</b>,Gradient Boosting  which are ensemble methods, also perform well with accuracy scores of 0.90 and 0.91, respectively.<br>\n",
    "Both Logistic Regression and Support Vector Machine (SVM) achieves accuracy score of 0.725 and 0.79.\n"
   ]
  },
  {
   "cell_type": "markdown",
   "id": "03d32847",
   "metadata": {},
   "source": [
    "These classification models have their own strengths and weaknesses, and their suitability depends on the specific characteristics of your data and the goals of your classification task. The choice of model often involves experimentation and hyperparameter tuning to achieve the best results for a given problem."
   ]
  },
  {
   "cell_type": "markdown",
   "id": "50c89a3f",
   "metadata": {},
   "source": [
    "**SUMMARY**<br>\n",
    "Employee performance analysis is a multifaceted process that helps organizations maximize their human resources, identify areas for improvement, and create a supportive and productive work environment. It enables organizations to make informed decisions that benefit both employees and the overall success of the business.<br>\n",
    "\n",
    "**Goal 1:Department wise performances**<br>\n",
    "\n",
    "In department wise performance, we have to analyze the data from each department present in the category. The data frame has to be separated or sliced according to department wise. In Employee department feature there are six departments available. The performance analysis by the department as follows,<br>\n",
    "\n",
    "**Sales:** The Performace rating level 3 is more in the sales department. The male performance rating the little higher compared to female.The total work experience does not count the performance rating.Employees with more experience in this company has pretty good performance rating.As salary hike percentage increases performance also gets better<br>\n",
    "\n",
    "**Human Resources:** The majority of the employees are having level 3 performance.As the years of experience increases there is decline in performance.The female employees in HR department doing well in their performance. The total work experience does matter to performance in this department.Also the employees performance is less for those who are promoted recently.<br>\n",
    "\n",
    "**Development:** The largest number of employees are level 3 performers. Employees of all age are performing at the level of 3 only. The performance basedon gender is same for both.Performance rating is around 3.5 which is higher for employees whose salary hike percentage above 20.<br>\n",
    "\n",
    "**Data Science:** Most of the employees gives level 3 performance.Level 2 performance is very low in this department.The overall performance is higher compared to all departments. The age does not count as an important factor in their performance. Male employees are doing good in this department.The years of work experience does matter.<br>\n",
    "**Research & Development:** The age factor is not deviating from the level of performance here where different employees with different age are there in every level of performance. Performance is increasing as experience in current role increases.<br>\n",
    "\n",
    "**Finance:** The finance department performance is exponentially decreasing when age increases. The male employees are performing  good. The experience factor is inversely relating to the performance level.The employees who has given salary hike recently is not performing well"
   ]
  },
  {
   "cell_type": "markdown",
   "id": "830752f8",
   "metadata": {},
   "source": [
    "<br>**Goal 2: The Top 3 important features affecting the employee performance**\n",
    "The top three important features affecting the performance rating are ordered with their importance level as follows,\n",
    "\n",
    "1. Employment Environment Satisfaction\n",
    "2. Employee Salary Hike Percentage\n",
    "3. Years Since the last Promotion"
   ]
  },
  {
   "cell_type": "markdown",
   "id": "abb7a02b",
   "metadata": {},
   "source": [
    "**Goal 3: A Trained model which can predict the employee performance**<br>\n",
    "    \n",
    "The trained models are created using the machine learning algorithms with the accuracy score,<br>\n",
    "\n",
    "- Logistic Regression-72%\n",
    "- K-Nearest Neighbors(KNN)-61%\n",
    "- Support Vector Machine (SVM)-79%\n",
    "- Random Forest-91%\n",
    "- Decision Tree-88%\n",
    "- Gradient boosting-92%\n",
    "- Extreme Gradient Boosting-91%\n",
    "    \n",
    "**Goal 4: Recommendations to improve the employee performance**<br>\n",
    "    \n",
    "The insights and suggestions for improving overall employee performance and satisfaction within the organization.<br>\n",
    "**Employee Environment Satisfaction:** Ensuring a positive and satisfying work environment is crucial for enhancing overall employee performance. A supportive and motivating workplace can boost morale, engagement, and productivity.<br>\n",
    "**Employee Salary Hike Percentage:** Offering competitive and fair salary increases can provide financial and psychological incentives for employees to perform well. Adequate compensation is a significant motivator and can contribute to job satisfaction.<br>\n",
    "**Year since last promotion:** Providing opportunities for promotions and career advancement can motivate employees to excel in their roles. It encourages them to take on more responsibilities and develop leadership qualities."
   ]
  },
  {
   "cell_type": "markdown",
   "id": "7231edb4",
   "metadata": {},
   "source": [
    "# ***********************************************************************************************"
   ]
  },
  {
   "cell_type": "code",
   "execution_count": null,
   "id": "f9ecdf4f",
   "metadata": {},
   "outputs": [],
   "source": []
  },
  {
   "cell_type": "code",
   "execution_count": null,
   "id": "f21cdfa0",
   "metadata": {},
   "outputs": [],
   "source": []
  },
  {
   "cell_type": "code",
   "execution_count": null,
   "id": "7b6f0508",
   "metadata": {},
   "outputs": [],
   "source": []
  },
  {
   "cell_type": "code",
   "execution_count": null,
   "id": "4e8b94b7",
   "metadata": {},
   "outputs": [],
   "source": []
  }
 ],
 "metadata": {
  "kernelspec": {
   "display_name": "Python 3 (ipykernel)",
   "language": "python",
   "name": "python3"
  },
  "language_info": {
   "codemirror_mode": {
    "name": "ipython",
    "version": 3
   },
   "file_extension": ".py",
   "mimetype": "text/x-python",
   "name": "python",
   "nbconvert_exporter": "python",
   "pygments_lexer": "ipython3",
   "version": "3.10.9"
  }
 },
 "nbformat": 4,
 "nbformat_minor": 5
}
